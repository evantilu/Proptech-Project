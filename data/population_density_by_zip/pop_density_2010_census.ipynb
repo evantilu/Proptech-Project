{
 "cells": [
  {
   "cell_type": "code",
   "execution_count": 22,
   "metadata": {},
   "outputs": [],
   "source": [
    "import pandas as pd"
   ]
  },
  {
   "cell_type": "code",
   "execution_count": 23,
   "metadata": {},
   "outputs": [],
   "source": [
    "pop = pd.read_csv('./population_by_zip_2010.csv')\n",
    "land = pd.read_csv('./2020_Gaz_zcta_national.csv')"
   ]
  },
  {
   "cell_type": "code",
   "execution_count": 24,
   "metadata": {},
   "outputs": [],
   "source": [
    "# land.head()"
   ]
  },
  {
   "cell_type": "code",
   "execution_count": 40,
   "metadata": {},
   "outputs": [],
   "source": [
    "# get only GEOID and ALAND, exclude other fields I'm not interested\n",
    "land = land[['GEOID', 'ALAND_SQMI']]\n",
    "# land.head()"
   ]
  },
  {
   "cell_type": "code",
   "execution_count": 26,
   "metadata": {},
   "outputs": [],
   "source": [
    "zips = [   # zip codes wanted for San Diego\n",
    "92103, 92115, 92104,\n",
    "92111, 92110, 92105,\n",
    "92120, 92122, 92102,\n",
    "92106, 92126, 92107,\n",
    "92127, 92117, 92131,\n",
    "92108, 92116, 92130,\n",
    "92101, 92118, 92129,\n",
    "92119, 92113, 92154,\n",
    "92128, 92109, 92114,\n",
    "92139, 92123]"
   ]
  },
  {
   "cell_type": "code",
   "execution_count": 27,
   "metadata": {},
   "outputs": [
    {
     "data": {
      "text/plain": [
       "0    False\n",
       "1     True\n",
       "2    False\n",
       "dtype: bool"
      ]
     },
     "execution_count": 27,
     "metadata": {},
     "output_type": "execute_result"
    }
   ],
   "source": [
    "\"\"\"Testing masks\"\"\"\n",
    "tmp = [True, False, True]\n",
    "tmp_se = pd.Series(tmp)\n",
    "tmp_2 = [True, False, False]\n",
    "tmp_se2 = pd.Series(tmp_2)\n",
    "~(tmp_se | tmp_se2)"
   ]
  },
  {
   "cell_type": "code",
   "execution_count": 28,
   "metadata": {},
   "outputs": [],
   "source": [
    "# pop.head()"
   ]
  },
  {
   "cell_type": "code",
   "execution_count": 29,
   "metadata": {},
   "outputs": [],
   "source": [
    "# pop.describe()"
   ]
  },
  {
   "cell_type": "code",
   "execution_count": 30,
   "metadata": {},
   "outputs": [],
   "source": [
    "# pop.loc[pop['minimum_age'].isnull()]\n",
    "mask_min_age = pop['minimum_age'].isnull()\n",
    "mask_max_age = pop['maximum_age'].isnull()\n",
    "mask_max_gender = pop['gender'].isnull()\n",
    "mask = (mask_min_age & mask_max_age & mask_max_gender)\n"
   ]
  },
  {
   "cell_type": "code",
   "execution_count": 31,
   "metadata": {},
   "outputs": [],
   "source": [
    "# remove duplicate segments\n",
    "pop = pop.loc[mask]\n",
    "# pop"
   ]
  },
  {
   "cell_type": "code",
   "execution_count": 32,
   "metadata": {},
   "outputs": [
    {
     "data": {
      "text/plain": [
       "312444427"
      ]
     },
     "execution_count": 32,
     "metadata": {},
     "output_type": "execute_result"
    }
   ],
   "source": [
    "# verify cleaning result using total US population (~300M)\n",
    "pop['population'].sum()"
   ]
  },
  {
   "cell_type": "code",
   "execution_count": 33,
   "metadata": {},
   "outputs": [],
   "source": [
    "# get only population and zipcode field\n",
    "pop = pop[['population', 'zipcode']]\n",
    "# pop.head()"
   ]
  },
  {
   "cell_type": "code",
   "execution_count": 34,
   "metadata": {},
   "outputs": [],
   "source": [
    "# join pop and land dataframe\n",
    "tb = pop.set_index('zipcode').join(land.set_index('GEOID'))\n",
    "# tb.head()"
   ]
  },
  {
   "cell_type": "code",
   "execution_count": 35,
   "metadata": {},
   "outputs": [
    {
     "data": {
      "text/html": [
       "<div>\n",
       "<style scoped>\n",
       "    .dataframe tbody tr th:only-of-type {\n",
       "        vertical-align: middle;\n",
       "    }\n",
       "\n",
       "    .dataframe tbody tr th {\n",
       "        vertical-align: top;\n",
       "    }\n",
       "\n",
       "    .dataframe thead th {\n",
       "        text-align: right;\n",
       "    }\n",
       "</style>\n",
       "<table border=\"1\" class=\"dataframe\">\n",
       "  <thead>\n",
       "    <tr style=\"text-align: right;\">\n",
       "      <th></th>\n",
       "      <th>population</th>\n",
       "      <th>area (sq mi)</th>\n",
       "      <th>pop_density</th>\n",
       "    </tr>\n",
       "    <tr>\n",
       "      <th>zipcode</th>\n",
       "      <th></th>\n",
       "      <th></th>\n",
       "      <th></th>\n",
       "    </tr>\n",
       "  </thead>\n",
       "  <tbody>\n",
       "    <tr>\n",
       "      <th>91324</th>\n",
       "      <td>27669</td>\n",
       "      <td>4.389</td>\n",
       "      <td>6304.169515</td>\n",
       "    </tr>\n",
       "    <tr>\n",
       "      <th>72632</th>\n",
       "      <td>4449</td>\n",
       "      <td>99.264</td>\n",
       "      <td>44.819874</td>\n",
       "    </tr>\n",
       "    <tr>\n",
       "      <th>72739</th>\n",
       "      <td>473</td>\n",
       "      <td>5.143</td>\n",
       "      <td>91.969668</td>\n",
       "    </tr>\n",
       "    <tr>\n",
       "      <th>27305</th>\n",
       "      <td>1685</td>\n",
       "      <td>26.821</td>\n",
       "      <td>62.823907</td>\n",
       "    </tr>\n",
       "    <tr>\n",
       "      <th>1843</th>\n",
       "      <td>24425</td>\n",
       "      <td>3.373</td>\n",
       "      <td>7241.328194</td>\n",
       "    </tr>\n",
       "  </tbody>\n",
       "</table>\n",
       "</div>"
      ],
      "text/plain": [
       "         population  area (sq mi)  pop_density\n",
       "zipcode                                       \n",
       "91324         27669         4.389  6304.169515\n",
       "72632          4449        99.264    44.819874\n",
       "72739           473         5.143    91.969668\n",
       "27305          1685        26.821    62.823907\n",
       "1843          24425         3.373  7241.328194"
      ]
     },
     "execution_count": 35,
     "metadata": {},
     "output_type": "execute_result"
    }
   ],
   "source": [
    "pop_dens = tb.copy()\n",
    "pop_dens['pop_density'] = pop_dens['population'] / pop_dens['ALAND_SQMI']\n",
    "pop_dens = pop_dens.rename({'ALAND_SQMI': 'area (sq mi)'}, axis=1)\n",
    "pop_dens.head()"
   ]
  },
  {
   "cell_type": "code",
   "execution_count": 36,
   "metadata": {},
   "outputs": [
    {
     "data": {
      "text/html": [
       "<div>\n",
       "<style scoped>\n",
       "    .dataframe tbody tr th:only-of-type {\n",
       "        vertical-align: middle;\n",
       "    }\n",
       "\n",
       "    .dataframe tbody tr th {\n",
       "        vertical-align: top;\n",
       "    }\n",
       "\n",
       "    .dataframe thead th {\n",
       "        text-align: right;\n",
       "    }\n",
       "</style>\n",
       "<table border=\"1\" class=\"dataframe\">\n",
       "  <thead>\n",
       "    <tr style=\"text-align: right;\">\n",
       "      <th></th>\n",
       "      <th>population</th>\n",
       "      <th>area (sq mi)</th>\n",
       "      <th>pop_density</th>\n",
       "    </tr>\n",
       "    <tr>\n",
       "      <th>zipcode</th>\n",
       "      <th></th>\n",
       "      <th></th>\n",
       "      <th></th>\n",
       "    </tr>\n",
       "  </thead>\n",
       "  <tbody>\n",
       "    <tr>\n",
       "      <th>91324</th>\n",
       "      <td>27669</td>\n",
       "      <td>4.389</td>\n",
       "      <td>6304.169515</td>\n",
       "    </tr>\n",
       "    <tr>\n",
       "      <th>72632</th>\n",
       "      <td>4449</td>\n",
       "      <td>99.264</td>\n",
       "      <td>44.819874</td>\n",
       "    </tr>\n",
       "    <tr>\n",
       "      <th>72739</th>\n",
       "      <td>473</td>\n",
       "      <td>5.143</td>\n",
       "      <td>91.969668</td>\n",
       "    </tr>\n",
       "    <tr>\n",
       "      <th>27305</th>\n",
       "      <td>1685</td>\n",
       "      <td>26.821</td>\n",
       "      <td>62.823907</td>\n",
       "    </tr>\n",
       "    <tr>\n",
       "      <th>1843</th>\n",
       "      <td>24425</td>\n",
       "      <td>3.373</td>\n",
       "      <td>7241.328194</td>\n",
       "    </tr>\n",
       "    <tr>\n",
       "      <th>...</th>\n",
       "      <td>...</td>\n",
       "      <td>...</td>\n",
       "      <td>...</td>\n",
       "    </tr>\n",
       "    <tr>\n",
       "      <th>59937</th>\n",
       "      <td>12588</td>\n",
       "      <td>300.975</td>\n",
       "      <td>41.824072</td>\n",
       "    </tr>\n",
       "    <tr>\n",
       "      <th>75645</th>\n",
       "      <td>9778</td>\n",
       "      <td>145.050</td>\n",
       "      <td>67.411238</td>\n",
       "    </tr>\n",
       "    <tr>\n",
       "      <th>63855</th>\n",
       "      <td>1117</td>\n",
       "      <td>78.593</td>\n",
       "      <td>14.212462</td>\n",
       "    </tr>\n",
       "    <tr>\n",
       "      <th>39664</th>\n",
       "      <td>2256</td>\n",
       "      <td>116.521</td>\n",
       "      <td>19.361317</td>\n",
       "    </tr>\n",
       "    <tr>\n",
       "      <th>75709</th>\n",
       "      <td>5062</td>\n",
       "      <td>20.724</td>\n",
       "      <td>244.257865</td>\n",
       "    </tr>\n",
       "  </tbody>\n",
       "</table>\n",
       "<p>33119 rows × 3 columns</p>\n",
       "</div>"
      ],
      "text/plain": [
       "         population  area (sq mi)  pop_density\n",
       "zipcode                                       \n",
       "91324         27669         4.389  6304.169515\n",
       "72632          4449        99.264    44.819874\n",
       "72739           473         5.143    91.969668\n",
       "27305          1685        26.821    62.823907\n",
       "1843          24425         3.373  7241.328194\n",
       "...             ...           ...          ...\n",
       "59937         12588       300.975    41.824072\n",
       "75645          9778       145.050    67.411238\n",
       "63855          1117        78.593    14.212462\n",
       "39664          2256       116.521    19.361317\n",
       "75709          5062        20.724   244.257865\n",
       "\n",
       "[33119 rows x 3 columns]"
      ]
     },
     "execution_count": 36,
     "metadata": {},
     "output_type": "execute_result"
    }
   ],
   "source": [
    "pop_dens"
   ]
  },
  {
   "cell_type": "code",
   "execution_count": 37,
   "metadata": {},
   "outputs": [
    {
     "data": {
      "text/plain": [
       "population      False\n",
       "area (sq mi)    False\n",
       "pop_density     False\n",
       "dtype: bool"
      ]
     },
     "execution_count": 37,
     "metadata": {},
     "output_type": "execute_result"
    }
   ],
   "source": [
    "pop_dens.isnull().any()"
   ]
  },
  {
   "cell_type": "code",
   "execution_count": 38,
   "metadata": {},
   "outputs": [
    {
     "data": {
      "text/html": [
       "<div>\n",
       "<style scoped>\n",
       "    .dataframe tbody tr th:only-of-type {\n",
       "        vertical-align: middle;\n",
       "    }\n",
       "\n",
       "    .dataframe tbody tr th {\n",
       "        vertical-align: top;\n",
       "    }\n",
       "\n",
       "    .dataframe thead th {\n",
       "        text-align: right;\n",
       "    }\n",
       "</style>\n",
       "<table border=\"1\" class=\"dataframe\">\n",
       "  <thead>\n",
       "    <tr style=\"text-align: right;\">\n",
       "      <th></th>\n",
       "      <th>population</th>\n",
       "      <th>area (sq mi)</th>\n",
       "      <th>pop_density</th>\n",
       "    </tr>\n",
       "  </thead>\n",
       "  <tbody>\n",
       "    <tr>\n",
       "      <th>count</th>\n",
       "      <td>33119.000000</td>\n",
       "      <td>33119.000000</td>\n",
       "      <td>33119.000000</td>\n",
       "    </tr>\n",
       "    <tr>\n",
       "      <th>mean</th>\n",
       "      <td>9433.993387</td>\n",
       "      <td>86.649685</td>\n",
       "      <td>1269.905789</td>\n",
       "    </tr>\n",
       "    <tr>\n",
       "      <th>std</th>\n",
       "      <td>13754.055366</td>\n",
       "      <td>253.617821</td>\n",
       "      <td>4976.384090</td>\n",
       "    </tr>\n",
       "    <tr>\n",
       "      <th>min</th>\n",
       "      <td>0.000000</td>\n",
       "      <td>0.002000</td>\n",
       "      <td>0.000000</td>\n",
       "    </tr>\n",
       "    <tr>\n",
       "      <th>25%</th>\n",
       "      <td>734.000000</td>\n",
       "      <td>9.053500</td>\n",
       "      <td>21.100766</td>\n",
       "    </tr>\n",
       "    <tr>\n",
       "      <th>50%</th>\n",
       "      <td>2805.000000</td>\n",
       "      <td>35.877000</td>\n",
       "      <td>81.446420</td>\n",
       "    </tr>\n",
       "    <tr>\n",
       "      <th>75%</th>\n",
       "      <td>12942.000000</td>\n",
       "      <td>88.560000</td>\n",
       "      <td>668.300170</td>\n",
       "    </tr>\n",
       "    <tr>\n",
       "      <th>max</th>\n",
       "      <td>113916.000000</td>\n",
       "      <td>13464.318000</td>\n",
       "      <td>156666.666667</td>\n",
       "    </tr>\n",
       "  </tbody>\n",
       "</table>\n",
       "</div>"
      ],
      "text/plain": [
       "          population  area (sq mi)    pop_density\n",
       "count   33119.000000  33119.000000   33119.000000\n",
       "mean     9433.993387     86.649685    1269.905789\n",
       "std     13754.055366    253.617821    4976.384090\n",
       "min         0.000000      0.002000       0.000000\n",
       "25%       734.000000      9.053500      21.100766\n",
       "50%      2805.000000     35.877000      81.446420\n",
       "75%     12942.000000     88.560000     668.300170\n",
       "max    113916.000000  13464.318000  156666.666667"
      ]
     },
     "execution_count": 38,
     "metadata": {},
     "output_type": "execute_result"
    }
   ],
   "source": [
    "pop_dens.describe()"
   ]
  },
  {
   "cell_type": "code",
   "execution_count": 39,
   "metadata": {},
   "outputs": [
    {
     "data": {
      "text/html": [
       "<div>\n",
       "<style scoped>\n",
       "    .dataframe tbody tr th:only-of-type {\n",
       "        vertical-align: middle;\n",
       "    }\n",
       "\n",
       "    .dataframe tbody tr th {\n",
       "        vertical-align: top;\n",
       "    }\n",
       "\n",
       "    .dataframe thead th {\n",
       "        text-align: right;\n",
       "    }\n",
       "</style>\n",
       "<table border=\"1\" class=\"dataframe\">\n",
       "  <thead>\n",
       "    <tr style=\"text-align: right;\">\n",
       "      <th></th>\n",
       "      <th>population</th>\n",
       "      <th>area (sq mi)</th>\n",
       "      <th>pop_density</th>\n",
       "    </tr>\n",
       "    <tr>\n",
       "      <th>zipcode</th>\n",
       "      <th></th>\n",
       "      <th></th>\n",
       "      <th></th>\n",
       "    </tr>\n",
       "  </thead>\n",
       "  <tbody>\n",
       "    <tr>\n",
       "      <th>20052</th>\n",
       "      <td>470</td>\n",
       "      <td>0.003</td>\n",
       "      <td>156666.666667</td>\n",
       "    </tr>\n",
       "  </tbody>\n",
       "</table>\n",
       "</div>"
      ],
      "text/plain": [
       "         population  area (sq mi)    pop_density\n",
       "zipcode                                         \n",
       "20052           470         0.003  156666.666667"
      ]
     },
     "execution_count": 39,
     "metadata": {},
     "output_type": "execute_result"
    }
   ],
   "source": [
    "# inspect the max density region. Turned out to be a mini zone in DC\n",
    "pop_dens.loc[pop_dens['pop_density'] == max(pop_dens['pop_density'])]"
   ]
  },
  {
   "cell_type": "code",
   "execution_count": 41,
   "metadata": {},
   "outputs": [],
   "source": [
    "'''Export to .csv'''\n",
    "pop_dens.to_csv('./population_density_by_zipcode.csv')"
   ]
  },
  {
   "cell_type": "code",
   "execution_count": null,
   "metadata": {},
   "outputs": [],
   "source": []
  }
 ],
 "metadata": {
  "interpreter": {
   "hash": "30d606a34a2d0d3aa62fd34bb488cd8235e6e908fc801d3be7ca72e3da62d7f7"
  },
  "kernelspec": {
   "display_name": "Python 3.9.7 ('SP22_6111_ADB')",
   "language": "python",
   "name": "python3"
  },
  "language_info": {
   "codemirror_mode": {
    "name": "ipython",
    "version": 3
   },
   "file_extension": ".py",
   "mimetype": "text/x-python",
   "name": "python",
   "nbconvert_exporter": "python",
   "pygments_lexer": "ipython3",
   "version": "3.9.11"
  },
  "orig_nbformat": 4
 },
 "nbformat": 4,
 "nbformat_minor": 2
}
